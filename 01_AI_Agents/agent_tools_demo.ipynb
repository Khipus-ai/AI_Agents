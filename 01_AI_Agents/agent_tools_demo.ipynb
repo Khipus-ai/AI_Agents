{
 "cells": [
  {
   "cell_type": "markdown",
   "id": "35f74caf",
   "metadata": {},
   "source": [
    "# Khipus.ai\n",
    "## Embeddings\n",
    "### Demo: Building a Business‑Intelligence Agent with Function Tools\n",
    "<span>© Copyright Notice 2025, Khipus.ai - All Rights Reserved.</span>"
   ]
  },
  {
   "cell_type": "markdown",
   "id": "7c9f06a2",
   "metadata": {},
   "source": [
    "\n",
    "\n",
    "This notebook shows how to build a small *business‑intelligence* agent that can:\n",
    "\n",
    "* fetch live stock prices,  \n",
    "* look up foreign‑exchange (FX) rates,  \n",
    "* retrieve the latest company news, and  \n",
    "* weave the results into natural‑language answers with an LLM.\n",
    "\n",
    "We'll focus on the concept of **agent tools**—special Python functions the language‑model can call when it needs structured data."
   ]
  },
  {
   "cell_type": "markdown",
   "id": "563e57cd",
   "metadata": {},
   "source": [
    "## Learning Objectives\n",
    "By the end of this lab you should be able to:\n",
    "1. Write a function‑tool that returns JSON‑serialisable data.\n",
    "2. Register tools with an `Agent` so the LLM can decide which ones to call.\n",
    "3. Combine multiple tool calls in a single response.\n",
    "4. Extend the agent with your own custom data sources."
   ]
  },
  {
   "cell_type": "markdown",
   "id": "f15d373b",
   "metadata": {},
   "source": [
    "> ⚙️ **Setup**\n",
    "\n",
    "This notebook assumes:\n",
    "\n",
    "* Python ≥ 3.9  \n",
    "* Packages: `openai`, `yfinance`, `agents`, `rich`, `python-dotenv`\n",
    "\n",
    "If you are missing any of them, uncomment and run the next cell.\n"
   ]
  },
  {
   "cell_type": "code",
   "execution_count": 16,
   "id": "c2750d98",
   "metadata": {},
   "outputs": [],
   "source": [
    "# !pip install --quiet openai yfinance agents rich python-dotenv\n",
    "#%pip install yfinance\n"
   ]
  },
  {
   "cell_type": "markdown",
   "id": "06fcfd98",
   "metadata": {},
   "source": [
    "## 1 — Configure your API keys\n",
    "We will use:\n",
    "* **Azure OpenAI** for the LLM.\n",
    "* **Yahoo Finance** (via the `yfinance` library) for market data.\n",
    "\n",
    "Set the following environment variables **before** running the rest of the notebook:\n",
    "```bash\n",
    "export ENDPOINT_URL=\"https://khipusaigpt0566189501.openai.azure.com/\"\n",
    "export DEPLOYMENT_NAME=\"gpt-4o\"\n",
    "export AZURE_OPENAI_API_KEY=\"Your key\" \n",
    "```\n",
    "\n",
    "The notebook will use Azure OpenAI with the specified endpoint and deployment."
   ]
  },
  {
   "cell_type": "code",
   "execution_count": null,
   "id": "e9e03005",
   "metadata": {},
   "outputs": [],
   "source": [
    "import os, logging, asyncio\n",
    "from datetime import datetime, timezone, timedelta\n",
    "\n",
    "import openai, yfinance as yf\n",
    "from agents import Agent, OpenAIChatCompletionsModel, Runner, function_tool, set_tracing_disabled\n",
    "from rich.logging import RichHandler\n",
    "\n",
    "# ----- Logging (pretty console output) -----\n",
    "logging.basicConfig(level=logging.INFO, format=\"%(message)s\", handlers=[RichHandler()])\n",
    "\n",
    "# Disable OpenAI tracing if not configured\n",
    "set_tracing_disabled(True)\n",
    "\n",
    "# ----- Azure OpenAI Configuration -----\n",
    "endpoint = os.getenv(\"ENDPOINT_URL\", \"https://khipusaigpt0566189501.openai.azure.com/\")\n",
    "deployment = os.getenv(\"DEPLOYMENT_NAME\", \"gpt-4o\")\n",
    "subscription_key = os.getenv(\"AZURE_OPENAI_API_KEY\", \"Your key\") # Ask your instructor for the key\n",
    "api_version = \"2025-01-01-preview\"\n",
    "\n",
    "client = openai.AsyncAzureOpenAI(\n",
    "    api_version=api_version,\n",
    "    azure_endpoint=endpoint,\n",
    "    api_key=subscription_key,\n",
    ")\n",
    "\n",
    "MODEL_NAME = deployment"
   ]
  },
  {
   "cell_type": "markdown",
   "id": "eb76b06d",
   "metadata": {},
   "source": [
    "## 2 — Define our data‑retrieval tools\n",
    "Each tool is a normal Python function annotated with `@function_tool` so that the `Agent` knows it can be invoked."
   ]
  },
  {
   "cell_type": "code",
   "execution_count": 18,
   "id": "64e30fb7",
   "metadata": {},
   "outputs": [],
   "source": [
    "def _today_iso() -> str:\n",
    "    return datetime.now(timezone.utc).strftime(\"%Y-%m-%d\")\n",
    "\n",
    "\n",
    "@function_tool\n",
    "def get_stock_price(symbol: str) -> dict:\n",
    "    \"\"\"Return the latest share price from Yahoo Finance.\"\"\"\n",
    "    tk = yf.Ticker(symbol.upper())\n",
    "    price = tk.fast_info.get(\"last_price\") or tk.history(period=\"1d\")[\"Close\"].iloc[-1]\n",
    "    currency = tk.fast_info.get(\"currency\", \"USD\")\n",
    "    return {\"symbol\": symbol.upper(), \"price\": round(float(price), 2), \"currency\": currency, \"date\": _today_iso()}\n",
    "\n",
    "\n",
    "@function_tool\n",
    "def get_fx_rate(pair: str) -> dict:\n",
    "    \"\"\"Return the latest FX rate for a six‑letter currency pair (e.g. EURUSD).\"\"\"\n",
    "    pair = pair.upper()\n",
    "    if len(pair) != 6:\n",
    "        raise ValueError(\"Pair must be six letters, e.g. EURUSD\")\n",
    "    tk = yf.Ticker(f\"{pair}=X\")\n",
    "    rate = tk.fast_info.get(\"last_price\") or tk.history(period=\"1d\")[\"Close\"].iloc[-1]\n",
    "    return {\"pair\": pair, \"rate\": round(float(rate), 4), \"date\": _today_iso()}\n",
    "\n",
    "\n",
    "@function_tool\n",
    "def get_company_news(company: str, days: int = 10) -> list:\n",
    "    \"\"\"Return news headlines for the given company from Yahoo Finance.\"\"\"\n",
    "    tk = yf.Ticker(company)\n",
    "    cutoff = datetime.now(timezone.utc) - timedelta(days=days)\n",
    "    headlines = []\n",
    "    for item in tk.news or []:\n",
    "        ts = datetime.fromtimestamp(item[\"providerPublishTime\"], tz=timezone.utc)\n",
    "        if ts >= cutoff:\n",
    "            headlines.append({\n",
    "                \"title\": item[\"title\"],\n",
    "                \"publisher\": item[\"publisher\"],\n",
    "                \"published\": ts.strftime(\"%Y-%m-%d\"),\n",
    "                \"link\": item[\"link\"],\n",
    "            })\n",
    "    return headlines or [f\"No significant news in last {days} days.\"]\n",
    "\n",
    "\n",
    "@function_tool\n",
    "def get_current_date() -> str:\n",
    "    return _today_iso()\n"
   ]
  },
  {
   "cell_type": "markdown",
   "id": "4290a983",
   "metadata": {},
   "source": [
    "## 3 — Create the Agent\n",
    "We wire our tools into a single agent with a short system prompt."
   ]
  },
  {
   "cell_type": "code",
   "execution_count": 19,
   "id": "c210083d",
   "metadata": {},
   "outputs": [],
   "source": [
    "business_agent = Agent(\n",
    "    name=\"Business Analyst\",\n",
    "    instructions=(\n",
    "        \"You are a senior business‑intelligence assistant. \" \n",
    "        \"Provide concise, data‑backed answers on markets, finance, and corporate strategy. \" \n",
    "        \"When citing numbers, include the retrieval date.\"\n",
    "    ),\n",
    "    tools=[get_stock_price, get_fx_rate, get_company_news, get_current_date],\n",
    "    model=OpenAIChatCompletionsModel(model=MODEL_NAME, openai_client=client),\n",
    ")\n"
   ]
  },
  {
   "cell_type": "markdown",
   "id": "1ab4d945",
   "metadata": {},
   "source": [
    "## 4 — Ask a question"
   ]
  },
  {
   "cell_type": "code",
   "execution_count": 20,
   "id": "7e91f085",
   "metadata": {},
   "outputs": [
    {
     "data": {
      "text/html": [
       "<pre style=\"white-space:pre;overflow-x:auto;line-height:normal;font-family:Menlo,'DejaVu Sans Mono',consolas,'Courier New',monospace\"><span style=\"color: #7fbfbf; text-decoration-color: #7fbfbf\">[07/14/25 10:54:52] </span><span style=\"color: #000080; text-decoration-color: #000080\">INFO    </span> HTTP Request: <span style=\"color: #808000; text-decoration-color: #808000; font-weight: bold\">POST</span>                                                     <a href=\"file://c:\\temp\\python-ai-agent-frameworks-demos\\.venv\\Lib\\site-packages\\httpx\\_client.py\" target=\"_blank\"><span style=\"color: #7f7f7f; text-decoration-color: #7f7f7f\">_client.py</span></a><span style=\"color: #7f7f7f; text-decoration-color: #7f7f7f\">:</span><a href=\"file://c:\\temp\\python-ai-agent-frameworks-demos\\.venv\\Lib\\site-packages\\httpx\\_client.py#1740\" target=\"_blank\"><span style=\"color: #7f7f7f; text-decoration-color: #7f7f7f\">1740</span></a>\n",
       "<span style=\"color: #7fbfbf; text-decoration-color: #7fbfbf\">                    </span>         <span style=\"color: #0000ff; text-decoration-color: #0000ff; text-decoration: underline\">https://khipusaigpt0566189501.openai.azure.com/openai/deployments/gpt-</span> <span style=\"color: #7f7f7f; text-decoration-color: #7f7f7f\">               </span>\n",
       "<span style=\"color: #7fbfbf; text-decoration-color: #7fbfbf\">                    </span>         <span style=\"color: #0000ff; text-decoration-color: #0000ff; text-decoration: underline\">4o/chat/completions?api-version=2025-01-01-preview</span> <span style=\"color: #008000; text-decoration-color: #008000\">\"HTTP/1.1 200 OK\"</span>   <span style=\"color: #7f7f7f; text-decoration-color: #7f7f7f\">               </span>\n",
       "</pre>\n"
      ],
      "text/plain": [
       "\u001b[2;36m[07/14/25 10:54:52]\u001b[0m\u001b[2;36m \u001b[0m\u001b[34mINFO    \u001b[0m HTTP Request: \u001b[1;33mPOST\u001b[0m                                                     \u001b]8;id=717259;file://c:\\temp\\python-ai-agent-frameworks-demos\\.venv\\Lib\\site-packages\\httpx\\_client.py\u001b\\\u001b[2m_client.py\u001b[0m\u001b]8;;\u001b\\\u001b[2m:\u001b[0m\u001b]8;id=638076;file://c:\\temp\\python-ai-agent-frameworks-demos\\.venv\\Lib\\site-packages\\httpx\\_client.py#1740\u001b\\\u001b[2m1740\u001b[0m\u001b]8;;\u001b\\\n",
       "\u001b[2;36m                    \u001b[0m         \u001b[4;94mhttps://khipusaigpt0566189501.openai.azure.com/openai/deployments/gpt-\u001b[0m \u001b[2m               \u001b[0m\n",
       "\u001b[2;36m                    \u001b[0m         \u001b[4;94m4o/chat/completions?api-\u001b[0m\u001b[4;94mversion\u001b[0m\u001b[4;94m=\u001b[0m\u001b[4;94m2025\u001b[0m\u001b[4;94m-01-01-preview\u001b[0m \u001b[32m\"HTTP/1.1 200 OK\"\u001b[0m   \u001b[2m               \u001b[0m\n"
      ]
     },
     "metadata": {},
     "output_type": "display_data"
    },
    {
     "data": {
      "text/html": [
       "<pre style=\"white-space:pre;overflow-x:auto;line-height:normal;font-family:Menlo,'DejaVu Sans Mono',consolas,'Courier New',monospace\"><span style=\"color: #7fbfbf; text-decoration-color: #7fbfbf\">[07/14/25 10:54:54] </span><span style=\"color: #000080; text-decoration-color: #000080\">INFO    </span> HTTP Request: <span style=\"color: #808000; text-decoration-color: #808000; font-weight: bold\">POST</span>                                                     <a href=\"file://c:\\temp\\python-ai-agent-frameworks-demos\\.venv\\Lib\\site-packages\\httpx\\_client.py\" target=\"_blank\"><span style=\"color: #7f7f7f; text-decoration-color: #7f7f7f\">_client.py</span></a><span style=\"color: #7f7f7f; text-decoration-color: #7f7f7f\">:</span><a href=\"file://c:\\temp\\python-ai-agent-frameworks-demos\\.venv\\Lib\\site-packages\\httpx\\_client.py#1740\" target=\"_blank\"><span style=\"color: #7f7f7f; text-decoration-color: #7f7f7f\">1740</span></a>\n",
       "<span style=\"color: #7fbfbf; text-decoration-color: #7fbfbf\">                    </span>         <span style=\"color: #0000ff; text-decoration-color: #0000ff; text-decoration: underline\">https://khipusaigpt0566189501.openai.azure.com/openai/deployments/gpt-</span> <span style=\"color: #7f7f7f; text-decoration-color: #7f7f7f\">               </span>\n",
       "<span style=\"color: #7fbfbf; text-decoration-color: #7fbfbf\">                    </span>         <span style=\"color: #0000ff; text-decoration-color: #0000ff; text-decoration: underline\">4o/chat/completions?api-version=2025-01-01-preview</span> <span style=\"color: #008000; text-decoration-color: #008000\">\"HTTP/1.1 200 OK\"</span>   <span style=\"color: #7f7f7f; text-decoration-color: #7f7f7f\">               </span>\n",
       "</pre>\n"
      ],
      "text/plain": [
       "\u001b[2;36m[07/14/25 10:54:54]\u001b[0m\u001b[2;36m \u001b[0m\u001b[34mINFO    \u001b[0m HTTP Request: \u001b[1;33mPOST\u001b[0m                                                     \u001b]8;id=390940;file://c:\\temp\\python-ai-agent-frameworks-demos\\.venv\\Lib\\site-packages\\httpx\\_client.py\u001b\\\u001b[2m_client.py\u001b[0m\u001b]8;;\u001b\\\u001b[2m:\u001b[0m\u001b]8;id=84280;file://c:\\temp\\python-ai-agent-frameworks-demos\\.venv\\Lib\\site-packages\\httpx\\_client.py#1740\u001b\\\u001b[2m1740\u001b[0m\u001b]8;;\u001b\\\n",
       "\u001b[2;36m                    \u001b[0m         \u001b[4;94mhttps://khipusaigpt0566189501.openai.azure.com/openai/deployments/gpt-\u001b[0m \u001b[2m               \u001b[0m\n",
       "\u001b[2;36m                    \u001b[0m         \u001b[4;94m4o/chat/completions?api-\u001b[0m\u001b[4;94mversion\u001b[0m\u001b[4;94m=\u001b[0m\u001b[4;94m2025\u001b[0m\u001b[4;94m-01-01-preview\u001b[0m \u001b[32m\"HTTP/1.1 200 OK\"\u001b[0m   \u001b[2m               \u001b[0m\n"
      ]
     },
     "metadata": {},
     "output_type": "display_data"
    },
    {
     "name": "stdout",
     "output_type": "stream",
     "text": [
      "**Microsoft (MSFT) Share Price:** $502.87 (retrieved on 2025-07-14).  \n",
      "**EUR/USD Exchange Rate:** 1.1677 (retrieved on 2025-07-14).  \n",
      "**Microsoft News:** No notable news has been reported in the last day.\n"
     ]
    }
   ],
   "source": [
    "async def demo():\n",
    "    prompt = \"Give me today's MSFT share price, the EUR‑USD rate, and any notable Microsoft news.\"\n",
    "    result = await Runner.run(business_agent, input=prompt)\n",
    "    print(result.final_output)\n",
    "\n",
    "await demo()\n"
   ]
  },
  {
   "cell_type": "markdown",
   "id": "e9ca75a2",
   "metadata": {},
   "source": [
    "## 5 — How it works\n",
    "1. **The LLM analyses the prompt** and decides it needs structured data.\n",
    "2. **Tool calls** are automatically triggered:\n",
    "   * `get_stock_price` → JSON with symbol, price, currency, date.\n",
    "   * `get_fx_rate` → JSON with pair, rate, date.\n",
    "   * `get_company_news` → list of headline dictionaries.\n",
    "3. **The agent stitches** those payloads into a fluent, human‑readable answer.\n",
    "\n",
    "Because each tool returns plain dictionaries/lists, you could as easily connect to a database, a REST endpoint, or a sensor."
   ]
  },
  {
   "cell_type": "markdown",
   "id": "878f0f89",
   "metadata": {},
   "source": [
    "## 6 — Your Turn ✏️\n",
    "* **Exercise A:** Add a new tool named `get_crypto_price(coin: str)` that looks up Bitcoin, Ethereum, etc.\n",
    "* **Exercise B:** Modify the prompt so the agent also gives a brief strategic recommendation based on the data.\n",
    "* **Exercise C:** Swap `Runner.run` for `Runner.interact()` to get an interactive chat session."
   ]
  }
 ],
 "metadata": {
  "kernelspec": {
   "display_name": ".venv",
   "language": "python",
   "name": "python3"
  },
  "language_info": {
   "codemirror_mode": {
    "name": "ipython",
    "version": 3
   },
   "file_extension": ".py",
   "mimetype": "text/x-python",
   "name": "python",
   "nbconvert_exporter": "python",
   "pygments_lexer": "ipython3",
   "version": "3.11.9"
  }
 },
 "nbformat": 4,
 "nbformat_minor": 5
}
