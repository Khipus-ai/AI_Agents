{
 "cells": [
  {
   "cell_type": "markdown",
   "id": "f0ab5e5e",
   "metadata": {},
   "source": [
    "# Business Advisor AI Agent\n",
    "\n",
    "This notebook demonstrates how to create and use a business advisor AI agent using OpenAI and Azure services. The agent provides clear, actionable guidance on strategy, finance, marketing, and operations.\n",
    "\n",
    "## Features\n",
    "- Support for both Azure OpenAI and GitHub Models\n",
    "- Professional business consulting persona\n",
    "- Concise, actionable responses\n",
    "- Easy-to-use interface for business queries"
   ]
  },
  {
   "cell_type": "markdown",
   "id": "3f7e452e",
   "metadata": {},
   "source": [
    "## 1. Environment Setup and Dependencies\n",
    "\n",
    "First, we'll import all the required libraries for our business advisor agent."
   ]
  },
  {
   "cell_type": "code",
   "execution_count": 1,
   "id": "bcc17426",
   "metadata": {},
   "outputs": [
    {
     "name": "stdout",
     "output_type": "stream",
     "text": [
      "✅ All dependencies imported successfully!\n"
     ]
    }
   ],
   "source": [
    "import asyncio\n",
    "import os\n",
    "import time\n",
    "from typing import Optional\n",
    "\n",
    "import azure.identity\n",
    "import openai\n",
    "from agents import Agent, OpenAIChatCompletionsModel, Runner, set_tracing_disabled\n",
    "from dotenv import load_dotenv\n",
    "\n",
    "# Disable tracing since we're not connected to a supported tracing provider\n",
    "set_tracing_disabled(disabled=True)\n",
    "\n",
    "print(\"✅ All dependencies imported successfully!\")"
   ]
  },
  {
   "cell_type": "markdown",
   "id": "104bd370",
   "metadata": {},
   "source": [
    "## 2. Load Environment Variables\n",
    "\n",
    "Load environment variables from `.env` file and configure API host settings. You can use either GitHub Models or Azure OpenAI."
   ]
  },
  {
   "cell_type": "code",
   "execution_count": null,
   "id": "f3eefaad",
   "metadata": {},
   "outputs": [
    {
     "name": "stdout",
     "output_type": "stream",
     "text": [
      "🔧 Azure OpenAI Endpoint: https://khipusaigpt0566189501.openai.azure.com/\n",
      "🎯 Deployment: gpt-4o\n",
      "📅 API Version: 2025-01-01-preview\n",
      "🔑 Configuration loaded successfully!\n"
     ]
    }
   ],
   "source": [
    "# Load environment variables (optional - we'll use direct configuration)\n",
    "load_dotenv(override=True)\n",
    "\n",
    "# Azure OpenAI Configuration - Direct setup\n",
    "endpoint = os.getenv(\"ENDPOINT_URL\", \"https://khipusaigpt0566189501.openai.azure.com/\")\n",
    "deployment = os.getenv(\"DEPLOYMENT_NAME\", \"gpt-4o\")\n",
    "subscription_key = os.getenv(\"AZURE_OPENAI_API_KEY\", \"Your Key here\") # Ask your instructor for the key\n",
    "api_version = \"2025-01-01-preview\"\n",
    "\n",
    "print(f\"🔧 Azure OpenAI Endpoint: {endpoint}\")\n",
    "print(f\"🎯 Deployment: {deployment}\")\n",
    "print(f\"📅 API Version: {api_version}\")\n",
    "print(f\"🔑 Configuration loaded successfully!\")"
   ]
  },
  {
   "cell_type": "markdown",
   "id": "574a60c0",
   "metadata": {},
   "source": [
    "## 3. Configure OpenAI Client\n",
    "\n",
    "Set up the OpenAI client based on the API_HOST environment variable. This supports both GitHub Models and Azure OpenAI with appropriate authentication."
   ]
  },
  {
   "cell_type": "code",
   "execution_count": 7,
   "id": "671966ed",
   "metadata": {},
   "outputs": [
    {
     "name": "stdout",
     "output_type": "stream",
     "text": [
      "🔗 Using Azure OpenAI with endpoint: https://khipusaigpt0566189501.openai.azure.com/\n",
      "🎯 Primary deployment: gpt-4o\n",
      "✅ Azure OpenAI client configured successfully!\n"
     ]
    }
   ],
   "source": [
    "\n",
    "\n",
    "# Configure Azure OpenAI client with API key authentication\n",
    "client = openai.AsyncAzureOpenAI(\n",
    "    api_key=subscription_key,\n",
    "    api_version=api_version,\n",
    "    azure_endpoint=endpoint,\n",
    ")\n",
    "\n",
    "MODEL_NAME = deployment\n",
    "\n",
    "\n",
    "print(f\"🔗 Using Azure OpenAI with endpoint: {endpoint}\")\n",
    "print(f\"🎯 Primary deployment: {MODEL_NAME}\")\n",
    "print(\"✅ Azure OpenAI client configured successfully!\")"
   ]
  },
  {
   "cell_type": "markdown",
   "id": "7cab7961",
   "metadata": {},
   "source": [
    "## 4. Create Business Agent\n",
    "\n",
    "Initialize the Agent with business advisor instructions, model configuration, and professional guidance parameters."
   ]
  },
  {
   "cell_type": "code",
   "execution_count": 8,
   "id": "f3ced193",
   "metadata": {},
   "outputs": [
    {
     "name": "stdout",
     "output_type": "stream",
     "text": [
      "🤖 Business Advisor agent created successfully!\n",
      "Agent Name: Business Advisor\n",
      "Current Model: gpt-4o\n",
      "Ready to provide business consulting advice!\n"
     ]
    }
   ],
   "source": [
    "def create_agent(model_name: str = MODEL_NAME) -> Agent:\n",
    "    \"\"\"Create a business advisor agent with the specified model.\"\"\"\n",
    "    return Agent(\n",
    "        name=\"Business Advisor\",\n",
    "        instructions=(\n",
    "            \"You are a seasoned business consultant who provides clear, actionable guidance on \"\n",
    "            \"strategy, finance, marketing, and operations. \"\n",
    "            \"• Keep answers concise and professional (1 sentence unless depth is required). \"\n",
    "            \"• If a question falls outside typical business topics, reply briefly and suggest a relevant resource.\"\n",
    "        ),\n",
    "        model=OpenAIChatCompletionsModel(model=model_name, openai_client=client),\n",
    "    )\n",
    "\n",
    "# Create the initial Business Advisor agent\n",
    "agent = create_agent()\n",
    "\n",
    "print(\"🤖 Business Advisor agent created successfully!\")\n",
    "print(f\"Agent Name: {agent.name}\")\n",
    "print(f\"Current Model: {MODEL_NAME}\")\n",
    "print(\"Ready to provide business consulting advice!\")"
   ]
  },
  {
   "cell_type": "markdown",
   "id": "aab78746",
   "metadata": {},
   "source": [
    "## 5. Run Agent with Business Query\n",
    "\n",
    "Execute the agent with a sample business question about B2B SaaS growth strategies and display the results."
   ]
  },
  {
   "cell_type": "code",
   "execution_count": 13,
   "id": "d812a1e9",
   "metadata": {},
   "outputs": [
    {
     "name": "stdout",
     "output_type": "stream",
     "text": [
      "💼 Business Question: What financial metrics should I track for my business?\n",
      "\n",
      "🤔 Agent is thinking...\n",
      "\n",
      "📋 Business Advisor Response:\n",
      "==================================================\n",
      "Track revenue, gross profit margin, net profit margin, operating expenses, cash flow, accounts receivable turnover, inventory turnover, current ratio, and ROI.\n"
     ]
    }
   ],
   "source": [
    "# Simple example using Azure OpenAI\n",
    "business_question = \"What financial metrics should I track for my business?\"\n",
    "\n",
    "print(f\"💼 Business Question: {business_question}\")\n",
    "print(\"\\n🤔 Agent is thinking...\")\n",
    "\n",
    "result = await Runner.run(agent, input=business_question)\n",
    "    \n",
    "print(\"\\n📋 Business Advisor Response:\")\n",
    "print(\"=\" * 50)\n",
    "print(result.final_output.encode('utf-8', errors='replace').decode('utf-8'))\n",
    "\n",
    "    \n"
   ]
  },
  {
   "cell_type": "markdown",
   "id": "93c7b787",
   "metadata": {},
   "source": [
    "### Try These Business Questions:\n",
    "\n",
    "You can modify the question in the cell above or create new cells with different questions. Here are some examples to try:\n",
    "\n",
    "**Strategy Questions:**\n",
    "- \"What are the key factors to consider when entering a new market?\"\n",
    "- \"How do I create a competitive advantage for my startup?\"\n",
    "- \"What are the best practices for digital transformation?\"\n",
    "\n",
    "**Financial Questions:**\n",
    "- \"What financial metrics should I track for my business?\"\n",
    "- \"How do I prepare for Series A funding?\"\n",
    "- \"What's the best approach to manage cash flow in a seasonal business?\"\n",
    "\n",
    "**Marketing & Operations:**\n",
    "- \"How can I improve customer retention rates?\"\n",
    "- \"What's an effective go-to-market strategy for B2B products?\"\n",
    "- \"How do I scale my operations efficiently?\"\n",
    "\n",
    "Simply replace the `your_question` variable in the cell above with any of these questions or your own!\n",
    "\n"
   ]
  },
  {
   "cell_type": "markdown",
   "id": "aba454c8",
   "metadata": {},
   "source": []
  }
 ],
 "metadata": {
  "kernelspec": {
   "display_name": ".venv",
   "language": "python",
   "name": "python3"
  },
  "language_info": {
   "codemirror_mode": {
    "name": "ipython",
    "version": 3
   },
   "file_extension": ".py",
   "mimetype": "text/x-python",
   "name": "python",
   "nbconvert_exporter": "python",
   "pygments_lexer": "ipython3",
   "version": "3.11.9"
  }
 },
 "nbformat": 4,
 "nbformat_minor": 5
}
